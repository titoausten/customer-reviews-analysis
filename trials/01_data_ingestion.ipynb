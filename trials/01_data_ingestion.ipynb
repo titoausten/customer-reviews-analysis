{
 "cells": [
  {
   "cell_type": "markdown",
   "metadata": {},
   "source": [
    "## Data Ingestion"
   ]
  },
  {
   "cell_type": "code",
   "execution_count": 1,
   "metadata": {},
   "outputs": [],
   "source": [
    "import requests\n",
    "from bs4 import BeautifulSoup\n",
    "import pandas as pd\n",
    "import os\n",
    "import sys"
   ]
  },
  {
   "cell_type": "code",
   "execution_count": 2,
   "metadata": {},
   "outputs": [
    {
     "data": {
      "text/plain": [
       "'c:\\\\Personal AI Projects\\\\FORAGE JOB SIMULATIONS\\\\British Airline Data Science Virtual Internship\\\\customer-reviews-analysis\\\\trials'"
      ]
     },
     "execution_count": 2,
     "metadata": {},
     "output_type": "execute_result"
    }
   ],
   "source": [
    "%pwd"
   ]
  },
  {
   "cell_type": "code",
   "execution_count": 3,
   "metadata": {},
   "outputs": [],
   "source": [
    "os.chdir(\"../\")"
   ]
  },
  {
   "cell_type": "code",
   "execution_count": 4,
   "metadata": {},
   "outputs": [
    {
     "data": {
      "text/plain": [
       "'c:\\\\Personal AI Projects\\\\FORAGE JOB SIMULATIONS\\\\British Airline Data Science Virtual Internship\\\\customer-reviews-analysis'"
      ]
     },
     "execution_count": 4,
     "metadata": {},
     "output_type": "execute_result"
    }
   ],
   "source": [
    "%pwd"
   ]
  },
  {
   "cell_type": "markdown",
   "metadata": {},
   "source": [
    "#### src/reviewAnalyser/entity/config_entity.py"
   ]
  },
  {
   "cell_type": "code",
   "execution_count": 5,
   "metadata": {},
   "outputs": [],
   "source": [
    "from dataclasses import dataclass\n",
    "from pathlib import Path\n",
    "\n",
    "\n",
    "@dataclass(frozen=True)\n",
    "class DataIngestionConfig:\n",
    "    root_dir: Path\n",
    "    source_URL: str\n",
    "    local_data_file: Path\n",
    "    pages: int\n",
    "    page_size: int"
   ]
  },
  {
   "cell_type": "markdown",
   "metadata": {},
   "source": [
    "#### src/reviewAnalyser/config/configuration.py"
   ]
  },
  {
   "cell_type": "code",
   "execution_count": 8,
   "metadata": {},
   "outputs": [],
   "source": [
    "from src.reviewAnalyzer.constants import *\n",
    "from src.reviewAnalyzer.utils.common import read_yaml, create_directories"
   ]
  },
  {
   "cell_type": "code",
   "execution_count": 9,
   "metadata": {},
   "outputs": [],
   "source": [
    "class ConfigurationManager:\n",
    "    def __init__(\n",
    "        self,\n",
    "        config_filepath = CONFIG_FILE_PATH):\n",
    "        self.config = read_yaml(config_filepath)\n",
    "        create_directories([self.config.artifacts_root])\n",
    "\n",
    "    \n",
    "    def get_data_ingestion_config(self) -> DataIngestionConfig:\n",
    "        config = self.config.data_ingestion\n",
    "        create_directories([config.root_dir])\n",
    "\n",
    "        data_ingestion_config = DataIngestionConfig(\n",
    "            root_dir=config.root_dir,\n",
    "            source_URL=config.source_URL,\n",
    "            local_data_file=config.local_data_file,\n",
    "            pages=config.pages,\n",
    "            page_size=config.page_size\n",
    "        )\n",
    "\n",
    "        return data_ingestion_config\n",
    "\n"
   ]
  },
  {
   "cell_type": "markdown",
   "metadata": {},
   "source": [
    "#### src/reviewAnalyser/components/data_ingestion.py"
   ]
  },
  {
   "cell_type": "code",
   "execution_count": 10,
   "metadata": {},
   "outputs": [],
   "source": [
    "from src.reviewAnalyzer import logger\n",
    "from src.reviewAnalyzer.utils.common import get_size\n",
    "from src.reviewAnalyzer.entity.config_entity import DataIngestionConfig\n",
    "from pathlib import Path"
   ]
  },
  {
   "cell_type": "code",
   "execution_count": 11,
   "metadata": {},
   "outputs": [],
   "source": [
    "class DataIngestion:\n",
    "    def __init__(self, config: DataIngestionConfig):\n",
    "        self.config = config\n",
    "\n",
    "    \n",
    "    def scrape_data(self):\n",
    "        if not os.path.exists(self.config.local_data_file):\n",
    "            reviews = []\n",
    "\n",
    "            for i in range(1, self.config.pages + 1):\n",
    "\n",
    "                print(f\"Scraping page {i}\")\n",
    "\n",
    "                # Create URL to collect links from paginated data\n",
    "                url = f\"{self.config.source_URL}/page/{i}/?sortby=post_date%3ADesc&pagesize={self.config.page_size}\"\n",
    "\n",
    "                # Collect HTML data from this page\n",
    "                response = requests.get(url)\n",
    "\n",
    "                # Parse content\n",
    "                content = response.content\n",
    "                parsed_content = BeautifulSoup(content, 'html.parser')\n",
    "                for para in parsed_content.find_all(\"div\", {\"class\": \"text_content\"}):\n",
    "                    reviews.append(para.get_text())\n",
    "            \n",
    "                print(f\"   ---> {len(reviews)} total reviews\")\n",
    "            logger.info(\"Scraping complete!\")\n",
    "\n",
    "            # Load scraped data into a dataframe\n",
    "            df = pd.DataFrame()\n",
    "            df[\"reviews\"] = reviews\n",
    "\n",
    "            # Save to csv file\n",
    "            df.to_csv(self.config.local_data_file)\n",
    "\n",
    "            logger.info(f\"Scraped File location: {self.config.local_data_file}\")\n",
    "            \n",
    "        else:\n",
    "            logger.info(f\"File already exists of size: {get_size(Path(self.config.local_data_file))}\")\n",
    "\n",
    "\n"
   ]
  },
  {
   "cell_type": "markdown",
   "metadata": {},
   "source": [
    "#### src/reviewAnalyser/pipeline/stage_01_data_ingestion.py"
   ]
  },
  {
   "cell_type": "code",
   "execution_count": 12,
   "metadata": {},
   "outputs": [],
   "source": [
    "class DataIngestionPipeline:\n",
    "    def __init__(self):\n",
    "        pass\n",
    "\n",
    "    def main(self):\n",
    "        config = ConfigurationManager()\n",
    "        data_ingestion_config = config.get_data_ingestion_config()\n",
    "        data_ingestion = DataIngestion(config=data_ingestion_config)\n",
    "        data_ingestion.scrape_data()\n"
   ]
  },
  {
   "cell_type": "markdown",
   "metadata": {},
   "source": [
    "### main.py"
   ]
  },
  {
   "cell_type": "code",
   "execution_count": 13,
   "metadata": {},
   "outputs": [],
   "source": [
    "from src.reviewAnalyzer.exceptions import CustomException"
   ]
  },
  {
   "cell_type": "code",
   "execution_count": 14,
   "metadata": {},
   "outputs": [
    {
     "name": "stdout",
     "output_type": "stream",
     "text": [
      "[2024-07-09 20:31:51,337: INFO: 4178946079: *******************]\n",
      "[2024-07-09 20:31:51,339: INFO: 4178946079: >>>>>> Data Ingestion Stage started <<<<<<]\n",
      "[2024-07-09 20:31:51,381: INFO: common: yaml file: config\\config.yaml loaded successfully]\n",
      "[2024-07-09 20:31:51,385: INFO: common: created directory at: artifacts]\n",
      "[2024-07-09 20:31:51,388: INFO: common: created directory at: artifacts/data_ingestion]\n",
      "Scraping page 1\n",
      "   ---> 100 total reviews\n",
      "Scraping page 2\n",
      "   ---> 200 total reviews\n",
      "Scraping page 3\n",
      "   ---> 300 total reviews\n",
      "Scraping page 4\n",
      "   ---> 400 total reviews\n",
      "Scraping page 5\n",
      "   ---> 500 total reviews\n",
      "Scraping page 6\n",
      "   ---> 600 total reviews\n",
      "Scraping page 7\n",
      "   ---> 700 total reviews\n",
      "Scraping page 8\n",
      "   ---> 800 total reviews\n",
      "Scraping page 9\n",
      "   ---> 900 total reviews\n",
      "Scraping page 10\n",
      "   ---> 1000 total reviews\n",
      "[2024-07-09 20:32:33,156: INFO: 1812307141: Scraping complete!]\n",
      "[2024-07-09 20:32:33,457: INFO: 1812307141: Scraped File location: artifacts/data_ingestion/data.csv]\n",
      "[2024-07-09 20:32:33,460: INFO: 4178946079: >>>>>> Data Ingestion Stage completed <<<<<<]\n",
      "\n",
      "[x==========x]\n"
     ]
    }
   ],
   "source": [
    "STAGE_NAME = \"Data Ingestion Stage\"\n",
    "\n",
    "try: \n",
    "   logger.info(f\"*******************\")\n",
    "   logger.info(f\">>>>>> {STAGE_NAME} started <<<<<<\")\n",
    "   data_ingestion = DataIngestionPipeline()\n",
    "   data_ingestion.main()\n",
    "   logger.info(f\">>>>>> {STAGE_NAME} completed <<<<<<]\\n\\n[x==========x\")\n",
    "except Exception as e:\n",
    "    raise CustomException(e, sys)"
   ]
  },
  {
   "cell_type": "code",
   "execution_count": null,
   "metadata": {},
   "outputs": [],
   "source": []
  }
 ],
 "metadata": {
  "kernelspec": {
   "display_name": "Python 3.9.13 ('venv': venv)",
   "language": "python",
   "name": "python3"
  },
  "language_info": {
   "codemirror_mode": {
    "name": "ipython",
    "version": 3
   },
   "file_extension": ".py",
   "mimetype": "text/x-python",
   "name": "python",
   "nbconvert_exporter": "python",
   "pygments_lexer": "ipython3",
   "version": "3.10.9"
  },
  "orig_nbformat": 4,
  "vscode": {
   "interpreter": {
    "hash": "4f7924c4c56b083e0e50eadfe7ef592a7a8ef70df33a0047f82280e6be1afe15"
   }
  }
 },
 "nbformat": 4,
 "nbformat_minor": 2
}
